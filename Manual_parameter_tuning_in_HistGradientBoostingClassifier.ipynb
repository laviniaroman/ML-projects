{
 "cells": [
  {
   "cell_type": "markdown",
   "id": "23efc5af",
   "metadata": {},
   "source": [
    "The goal is to write an exhaustive search to find the best parameters\n",
    "combination maximizing the model generalization performance."
   ]
  },
  {
   "cell_type": "code",
   "execution_count": 2,
   "id": "43b9bb6a",
   "metadata": {},
   "outputs": [],
   "source": [
    "import pandas as pd\n",
    "\n",
    "from sklearn.model_selection import train_test_split\n",
    "\n",
    "adult_census = pd.read_csv(\"../datasets/adult-census.csv\")\n",
    "\n",
    "target_name = \"class\"\n",
    "target = adult_census[target_name]\n",
    "data = adult_census.drop(columns=[target_name, \"education-num\"])\n",
    "data_train, data_test, target_train, target_test = train_test_split(\n",
    "    data, target, train_size=0.75, random_state=42)"
   ]
  },
  {
   "cell_type": "markdown",
   "id": "30ac0288",
   "metadata": {},
   "source": [
    "### Creating Pipeline"
   ]
  },
  {
   "cell_type": "code",
   "execution_count": 3,
   "id": "874a1dcb",
   "metadata": {},
   "outputs": [],
   "source": [
    "from sklearn.compose import ColumnTransformer\n",
    "from sklearn.compose import make_column_selector as selector\n",
    "from sklearn.preprocessing import OrdinalEncoder\n",
    "\n",
    "categorical_preprocessor = OrdinalEncoder(handle_unknown=\"use_encoded_value\",\n",
    "                                          unknown_value=-1)\n",
    "preprocessor = ColumnTransformer(\n",
    "    [('cat_preprocessor', categorical_preprocessor,\n",
    "      selector(dtype_include=object))],\n",
    "    remainder='passthrough', sparse_threshold=0)\n",
    "\n",
    "from sklearn.ensemble import HistGradientBoostingClassifier\n",
    "from sklearn.pipeline import Pipeline\n",
    "\n",
    "model = Pipeline([\n",
    "    (\"preprocessor\", preprocessor),\n",
    "    (\"classifier\", HistGradientBoostingClassifier(random_state=42))\n",
    "])"
   ]
  },
  {
   "cell_type": "markdown",
   "id": "24456da2",
   "metadata": {},
   "source": [
    "\n",
    "### Finding the best  `learning_rate` and `max_leaf_nodes` parameters"
   ]
  },
  {
   "cell_type": "code",
   "execution_count": 5,
   "id": "3ea02d1f",
   "metadata": {},
   "outputs": [
    {
     "name": "stdout",
     "output_type": "stream",
     "text": [
      "lr=0.01 and mln=3:\n",
      "0.797 ± 0.001\n",
      "lr=0.01 and mln=10:\n",
      "0.818 ± 0.001\n",
      "lr=0.01 and mln=30:\n",
      "0.843 ± 0.003\n",
      "lr=0.1 and mln=3:\n",
      "0.853 ± 0.001\n",
      "lr=0.1 and mln=10:\n",
      "0.866 ± 0.000\n",
      "lr=0.1 and mln=30:\n",
      "0.868 ± 0.001\n",
      "lr=1 and mln=3:\n",
      "0.859 ± 0.000\n",
      "lr=1 and mln=10:\n",
      "0.861 ± 0.002\n",
      "lr=1 and mln=30:\n",
      "0.856 ± 0.000\n",
      "lr=10 and mln=3:\n",
      "0.283 ± 0.004\n",
      "lr=10 and mln=10:\n",
      "0.263 ± 0.006\n",
      "lr=10 and mln=30:\n",
      "0.288 ± 0.051\n",
      "Best score: 0.868 \n",
      "Best parameters: {'learning-rate': 0.1, 'max leaf nodes': 30}!\n"
     ]
    }
   ],
   "source": [
    "from sklearn.model_selection import cross_validate\n",
    "\n",
    "best_score = 0\n",
    "best_params = {}\n",
    "\n",
    "for lr in [1e-2, 1e-1, 1, 10]:\n",
    "    for mln in [3, 10,30]:\n",
    "        model.set_params(classifier__learning_rate=lr,classifier__max_leaf_nodes=mln)\n",
    "        cv_results = cross_validate(model, data_train, target_train, cv=2)\n",
    "        scores = cv_results[\"test_score\"]\n",
    "        mean_score=scores.mean()\n",
    "        print(f\"lr={lr} and mln={mln}:\\n\"\n",
    "              f\"{scores.mean():.3f} ± {scores.std():.3f}\")\n",
    "        if mean_score > best_score:\n",
    "            best_score = mean_score\n",
    "            best_params = {'learning-rate': lr, 'max leaf nodes': mln}\n",
    "print(f\"Best score: {best_score:.3f} \\nBest parameters: {best_params}!\")\n",
    "            "
   ]
  },
  {
   "cell_type": "markdown",
   "id": "2b5ce509",
   "metadata": {},
   "source": [
    "\n",
    "### Applying the best parameters to the test set and computing the test score\n"
   ]
  },
  {
   "cell_type": "code",
   "execution_count": 7,
   "id": "1693b0c6",
   "metadata": {},
   "outputs": [
    {
     "name": "stdout",
     "output_type": "stream",
     "text": [
      "Test score after the parameter tuning: 0.879\n"
     ]
    }
   ],
   "source": [
    "model.set_params(classifier__learning_rate=best_params['learning-rate'],\n",
    "                 classifier__max_leaf_nodes=best_params['max leaf nodes'])\n",
    "model.fit(data_train, target_train)\n",
    "test_score = model.score(data_test, target_test)\n",
    "\n",
    "print(f\"Test score after the parameter tuning: {test_score:.3f}\")"
   ]
  }
 ],
 "metadata": {
  "jupytext": {
   "encoding": "# -*- coding: utf-8 -*-",
   "main_language": "python"
  },
  "kernelspec": {
   "display_name": "Python 3 (ipykernel)",
   "language": "python",
   "name": "python3"
  },
  "language_info": {
   "codemirror_mode": {
    "name": "ipython",
    "version": 3
   },
   "file_extension": ".py",
   "mimetype": "text/x-python",
   "name": "python",
   "nbconvert_exporter": "python",
   "pygments_lexer": "ipython3",
   "version": "3.10.6"
  },
  "nbreset": "https://raw.githubusercontent.com/INRIA/scikit-learn-mooc/main/notebooks/parameter_tuning_ex_02.ipynb"
 },
 "nbformat": 4,
 "nbformat_minor": 5
}
